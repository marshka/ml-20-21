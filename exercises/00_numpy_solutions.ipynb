{
 "cells": [
  {
   "cell_type": "markdown",
   "metadata": {
    "collapsed": true,
    "pycharm": {
     "name": "#%% md\n"
    }
   },
   "source": [
    "<a href=\"https://colab.research.google.com/github/marshka/ml-20-21/blob/main/exercises/00_numpy_solutions.ipynb\" target=\"_parent\"><img src=\"https://colab.research.google.com/assets/colab-badge.svg\" alt=\"Open In Colab\"/></a>"
   ]
  },
  {
   "cell_type": "markdown",
   "source": [
    "# Machine Learning SP 2020/2021\n",
    "\n",
    "- Prof. Cesare Alippi   \n",
    "- Andrea Cini ([`andrea.cini@usi.ch`](mailto:andrea.cini@usi.ch))   \n",
    "- Ivan Marisca ([`ivan.marisca@usi.ch`](mailto:ivan.marisca@usi.ch))   \n",
    "- Nelson Brochado ([`nelson.brochado@usi.ch`](mailto:nelson.brochado@usi.ch))\n",
    "\n",
    "---\n",
    "\n",
    "# Some NumPy concepts you need to BE AWARE OF\n",
    "\n",
    "- The main data structure is the array, which can be multi-dimensional\n",
    "\n",
    "    - number/scalar: 0-dimensional array\n",
    "        - Example: `np.array(3)`\n",
    "    - vector: 1-d array\n",
    "        - Example: `np.array([3, 1, 5])`\n",
    "    - matrix: 2d array \n",
    "        - Example: `np.array([[1, 2], [3, 2]])`\n",
    "    - tensor: d-dimensional array (very recurrent concept in machine learning and ML libraries, such as [TensorFlow](https://www.tensorflow.org/), [Keras](https://www.tensorflow.org/api_docs/python/tf/keras) and [PyTorch](https://pytorch.org/), so you'd better get used to it!)\n",
    "        - Example: `np.array([[[1, 1], [3, 3]]])`\n",
    "- An array has \n",
    "\n",
    "    - data (e.g. numbers) \n",
    "    - shape (dimensions)\n",
    "    - type (all elements of the array have this type, so this is different from Python lists, and this is one of the reasons that makes NumPy more efficient)\n",
    " \n",
    "- You can perform many operations on arrays, such as\n",
    "    \n",
    "    - [Resizing, reshaping, changing the type, concatenating arrays, etc.](https://numpy.org/doc/stable/reference/routines.array-manipulation.html)\n",
    "        - Example: from `np.array([[1, 2], [3, 2]])` to `array([[1, 2, 3, 2]])`), \n",
    "    - [indexing/slicing](https://numpy.org/doc/stable/reference/arrays.indexing.html) (select one or more elements from the array)\n",
    "        - This can be done in different ways in NumPy\n",
    "    - [statistical operations](https://numpy.org/doc/stable/reference/routines.statistics.html) (such as taking the mean, standard deviation, etc., of all or some elements)\n",
    "    - [linear algebra operations](https://numpy.org/doc/stable/reference/routines.linalg.html) (transpose, dot product, matrix multiplications, norm, eigenvectors, eigenvalues, solve linear systems, etc.)\n",
    "    - [other mathematical operations](https://numpy.org/doc/stable/reference/routines.math.html)  (e.g. trigonometric functions, such as sine, cosine, etc.)\n",
    "    - [logical](https://numpy.org/doc/stable/reference/routines.logic.html) and [binary](https://numpy.org/doc/stable/reference/routines.bitwise.html) operations\n",
    "    - [Sorting, searching, and counting](https://numpy.org/doc/stable/reference/routines.sort.html)\n",
    "    - [Fourier transforms](https://numpy.org/doc/stable/reference/routines.fft.html) (maybe a bit too advanced for you now)\n",
    "            \n",
    "- We can create arrays in different ways depending on our needs (by specifying the data and shape of the array and sometimes the type)\n",
    "    - From Python built-in iterables (e.g. lists or tuples)\n",
    "    - By randomly generating them by sampling the elements from uniform, Gaussian, etc., distributions\n",
    "    - With specific values (e.g. an array of all zeros, or an array of all ones)\n",
    "\n",
    "- Operations on arrays can be element-wise (aka component-wise)\n",
    "    - Example: multiply a number for all elements of an array (but you can also multiply a number by a specific element of the array, rather than all of them)\n",
    "    - This is actually just an implementation of similar linear algebra concepts (such as scalar-vector multiplication)\n",
    "\n",
    "- [Vectorized operations](http://www2.imm.dtu.dk/pubdb/edoc/imm3274.pdf)\n",
    "    - The idea that certain operations that you usually perform only with numbers can also be performed/implemented with arrays\n",
    "    - You often need to think in terms of vectors, matrices or multi-dimensional arrays in machine learning (you need this mindset)\n",
    "    - For instance, `(a + b)(a - b) = a^2 - b^2` , where `a` and `b` are real numbers, has the vectorized counterpart `(a + b)(a - b) = aa^T - bb^T`, where `a` and `b` are m-dimensional vectors and `T` is the transpose operation\n",
    "        - Example: `a = [1, 2]` and `b = [2, 2]`, then `(a + b)(a - b) = ([1, 2] + [2, 2])([1, 2] - [2, 2]) = [3, 4] • [-1, 0] = -3`, which is equal to `[1, 2]•[1, 2]^T - [2, 2]•[2, 2]^T = 5 - 8 = -3`, where `•` is the dot product symbol.\n",
    "        \n",
    "- [Broadcasting](https://numpy.org/doc/stable/user/theory.broadcasting.html?highlight=broadcasting) (i.e. how arrays are treated when arrays of different dimensions/shapes are involved in an operation)\n",
    "    - Example: `a * b`, where `a = 2.0` and `b = np.array([1, 2])`, becomes `np.array([2.0, 4.0])`.\n",
    "        - This is just the simple case of scalar-vector multiplication, which is a very common linear algebra operation, but there are more advanced \"broadcasting\" situations\n",
    "        \n",
    "- Many operations in NumPy do not create a new array out of the array that the operation is applied to, but only a reference (aka \"view\") to it, this means that modifying the reference can also modify the original object (side effects)\n",
    "    - Example: [slicing/indexing creates a view/reference to the specific sub-part of the array](https://scipy-cookbook.readthedocs.io/items/ViewsVsCopies.html)\n",
    "    - In any case, when you need, you can make (deep) copies of objects to avoid side effects!\n",
    "        - Example: once I was trying to solve a problem that required a NumPy array with floating-point numbers but I was wronly using an array of integers (I was not able to find the correct solution until I realised this mistake)\n",
    "\n",
    "- NumPy is [efficient](https://stackoverflow.com/q/8385602/3924118) because \n",
    "    - the Python functions actually often call some pre-compiled C code or other compiled code or libraries (e.g. [BLAS](http://www.netlib.org/blas/))\n",
    "    - the elements of the same array have the same type, so certain optimizations can be made (e.g. you don't need to check that the elements of that array have the same type in order to perform some operation)\n",
    "\n",
    "## Note 1\n",
    "\n",
    "> You don't need to memorise everything written above now, but, the more you use NumPy, the more you will come across all these concepts, so you should be aware of them. In general, it requires some time (weeks, months or even years) to become an expert in a library or programming language and, sometimes, you don't even need to be an expert, but just need to know how to use it and look up the documentation.\n",
    "\n",
    "## Note 2\n",
    "\n",
    "> You should go through the first lab's notebook that introduces the basic syntax of Python, if you are not familiar with Python. Here, I will focus on NumPy, but you can ask me questions about Python too, if you have any doubts.\n",
    "\n",
    "## Note 3\n",
    "\n",
    "> When you are not sure how a method is implemented or how to do something, look up the documentation or google it ;)"
   ],
   "metadata": {
    "collapsed": false,
    "pycharm": {
     "name": "#%% md\n"
    }
   }
  },
  {
   "cell_type": "markdown",
   "source": [
    "\n",
    "# Why do we care about NumPy in machine learning? \n",
    "\n",
    "- Loosely speaking, machine learning is about extracting patterns from past data, which are in \"stored\" models, in order to e.g. predict something about future data (is this already clear to you?)\n",
    "\n",
    "    - Arrays can represent/contain the parameters of a model\n",
    "    - Arrays can represent datasets"
   ],
   "metadata": {
    "collapsed": false
   }
  },
  {
   "cell_type": "markdown",
   "source": [
    "# Exercises to get used to simple NumPy operations\n",
    "\n",
    "GOAL: get used to simple common operations in NumPy and start to use Google and the documentation to search for help.\n",
    "\n",
    "Try to solve all exercises by yourself (i.e. do not copy from a classmate), but you are encouraged to use the following (and other) resources for help.\n",
    "\n",
    "- [NumPy documentation](https://numpy.org/doc/stable/reference/)\n",
    "- [Stack Overflow](https://stackoverflow.com/questions/tagged/numpy)\n",
    "- [Google](https://www.google.ch/) (of course)\n",
    "\n",
    "We don't expect you to already know everything, but you should be able to UNDERSTAND the solution you implement. \n",
    "\n",
    "If you find any difficulty in solving the following tasks, try to understand what the problem is and try to formulate a question to ask us: we are going to do our best to help you out!\n",
    "\n",
    "Here are the exercises."
   ],
   "metadata": {
    "collapsed": false
   }
  },
  {
   "cell_type": "markdown",
   "source": [
    "## Exercise 1 (import a Python library)\n",
    "\n",
    "Import NumPy library with an alias `np`. \n",
    "\n",
    "> Note that [Google Colaboratory](https://colab.research.google.com/) should already come with many Python libraries, such as NumPy, installed. [However, in general, before using a (external) Python library (such as NumPy), you need to install it first](https://packaging.python.org/tutorials/installing-packages/). \n",
    ">\n",
    "> You can list the installed libraries with `pip list` in Python. \n",
    ">\n",
    "> In Google Colab, you need to prepend the special character `!` to execute `pip list`. In Google Colab and generally in [Jupyter notebooks](https://jupyter.org/), [`!` is generally used to execute \"shell commands\". There's also `%`](https://stackoverflow.com/q/45784499/3924118)."
   ],
   "metadata": {
    "collapsed": false
   }
  },
  {
   "cell_type": "code",
   "execution_count": 1,
   "outputs": [],
   "source": [
    "# Uncomment the following line if you want to list the Python packages/libraries installed with pip\n",
    "# !pip list \n",
    "\n",
    "# Put your code here (REMEMBER: comments in Python start with #, so this is a comment)\n",
    "import numpy as np"
   ],
   "metadata": {
    "collapsed": false,
    "pycharm": {
     "name": "#%%\n",
     "is_executing": false
    }
   }
  },
  {
   "cell_type": "markdown",
   "source": [
    "## Exercise 2 (create an array from a Python list)\n",
    "\n",
    "- Generate a numpy array `A` from the Python list `[1, 2, 3]` and specify the type to be `np.float16`. \n",
    "\n",
    "- Then print `A`, its shape and type."
   ],
   "metadata": {
    "collapsed": false
   }
  },
  {
   "cell_type": "code",
   "execution_count": null,
   "outputs": [],
   "source": [
    "# put your code here\n",
    "A = np.array([1, 2, 3], dtype=np.float16)\n",
    "print(A)\n",
    "print(A.shape) # Not the same as type(A); you can also do np.shape(A)\n",
    "print(A.dtype)"
   ],
   "metadata": {
    "collapsed": false,
    "pycharm": {
     "name": "#%%\n"
    }
   }
  },
  {
   "cell_type": "markdown",
   "source": [
    "## Exercise 3 (create an array with same value everywhere)\n",
    "\n",
    "- Generate an array `A` with 5 rows and 9 columns (a.k.a. a 5x9 matrix or, equivalently, an array with shape `(5, 9)`) with the same **integer** `7` everywhere.\n",
    "    \n",
    "    - _Hint: use [`np.full`](https://numpy.org/doc/stable/reference/generated/numpy.full.html)_\n",
    "    \n",
    "    > NOTE: This operation will [shadow](https://en.wikipedia.org/wiki/Variable_shadowing) the previously defined array with the same name `A`, but that's ok, in this case, because we will not use the previously defined array.\n",
    "\n",
    "- Then print `A`, its shape and type."
   ],
   "metadata": {
    "collapsed": false
   }
  },
  {
   "cell_type": "code",
   "execution_count": null,
   "outputs": [],
   "source": [
    "# put your code here\n",
    "A = np.full((5, 9), 7, dtype=np.int64)\n",
    "print(A)\n",
    "print(A.shape)\n",
    "print(A.dtype)"
   ],
   "metadata": {
    "collapsed": false,
    "pycharm": {
     "name": "#%%\n"
    }
   }
  },
  {
   "cell_type": "markdown",
   "source": [
    "## Exercise 4 (sample an array from a [uniform distribution](https://en.wikipedia.org/wiki/Continuous_uniform_distribution))\n",
    "\n",
    "- Generate an array `A` with shape `(5, 9)` where each component is sampled from a uniform distribution over the half-open interval `[0, 1)`. \n",
    "\n",
    "    - **Hint**: look at method [`numpy.random.uniform`](https://numpy.org/doc/stable/reference/random/generated/numpy.random.uniform.html).\n",
    "\n",
    "- Then print `A`, its shape and type.\n"
   ],
   "metadata": {
    "collapsed": false
   }
  },
  {
   "cell_type": "code",
   "execution_count": null,
   "outputs": [],
   "source": [
    "# put your code here\n",
    "A = np.random.uniform(0.0, 1.0, (5, 9))\n",
    "print(A)\n",
    "print(A.shape)\n",
    "print(A.dtype)"
   ],
   "metadata": {
    "collapsed": false,
    "pycharm": {
     "name": "#%%\n"
    }
   }
  },
  {
   "cell_type": "markdown",
   "source": [
    "## Exercise 5 (sample an array from a [Gaussian](https://en.wikipedia.org/wiki/Normal_distribution))\n",
    "\n",
    "- Do the same thing as in the previous exercise, but where each component of the array is drawn from a Gaussian distribution with mean `3.5` and standard deviation `0.2`. \n",
    "\n",
    "    - **Hint**: look at method [`numpy.random.normal`](https://numpy.org/doc/stable/reference/random/generated/numpy.random.normal.html).\n",
    "\n",
    "- Then print `A`, its shape and type."
   ],
   "metadata": {
    "collapsed": false
   }
  },
  {
   "cell_type": "code",
   "execution_count": null,
   "outputs": [],
   "source": [
    "# put your code here\n",
    "A = np.random.normal(3.5, 0.2, (5, 9))\n",
    "print(A)\n",
    "print(A.shape)\n",
    "print(A.dtype)"
   ],
   "metadata": {
    "collapsed": false,
    "pycharm": {
     "name": "#%%\n"
    }
   }
  },
  {
   "cell_type": "markdown",
   "source": [
    "## Exercise 6 (reshape an array)\n",
    "\n",
    "- Reshape the matrix `A` of samples drawn from the Gaussian distribution `N(3.5, 0.2)` to 1-dimensional array `b`. \n",
    "    \n",
    "    - _Hint: shapes can be specified with tuples; examples of shapes are `(5, 9)` (2d), `(1,)` (1d), `()` (0d)_ \n",
    "    \n",
    "    - Make sure that the resulting shape of `b` is `(5*9, )` (why?) by printing the shape of `b`. "
   ],
   "metadata": {
    "collapsed": false,
    "pycharm": {
     "name": "#%% md\n"
    }
   }
  },
  {
   "cell_type": "code",
   "execution_count": null,
   "outputs": [],
   "source": [
    "# put your code here\n",
    "b = A.reshape((5*9,))\n",
    "b = A.reshape(-1) # -1 is a special char that means \"figure out the size of this dimension for me\"\n",
    "print(b.shape)"
   ],
   "metadata": {
    "collapsed": false,
    "pycharm": {
     "name": "#%%\n"
    }
   }
  },
  {
   "cell_type": "markdown",
   "source": [
    "## Exercise 7 (statistics of an array)\n",
    "\n",
    "- Compute the mean and variance of all elements of `b`. \n",
    "\n",
    "    - **Hint**: look at the attributes of the [array class](https://numpy.org/doc/stable/reference/arrays.ndarray.html).\n",
    "\n",
    "    - What are you expecting these values to be?\n",
    "        - Be prepared to answer this question.\n",
    "\n",
    "- Do the same with `A`\n",
    "\n",
    "- Make sure that the mean and variance of `b` and `A` are the same by printing them.\n"
   ],
   "metadata": {
    "collapsed": false
   }
  },
  {
   "cell_type": "code",
   "execution_count": null,
   "outputs": [],
   "source": [
    "# put your code here\n",
    "m1 = b.mean()  # np.mean(b)\n",
    "v1 = b.var()\n",
    "m2 = A.mean()\n",
    "v2 = A.var()\n",
    "print(m1)\n",
    "print(v1)\n",
    "print(m2)\n",
    "print(v2)"
   ],
   "metadata": {
    "collapsed": false,
    "pycharm": {
     "name": "#%%\n"
    }
   }
  },
  {
   "cell_type": "markdown",
   "source": [
    "## Exercise 8 (check that 2 numbers are almost equal)\n",
    "\n",
    "- Use NumPy  [`isclose`](https://numpy.org/doc/stable/reference/generated/numpy.isclose.html) or [`allclose`](https://numpy.org/doc/stable/reference/generated/numpy.allclose.html) to check that the means and variances of `A` and `b` are indeed the same (or very close).\n",
    "\n",
    "- Is there any difference between `isclose` and `allclose`?"
   ],
   "metadata": {
    "collapsed": false
   }
  },
  {
   "cell_type": "code",
   "execution_count": null,
   "outputs": [],
   "source": [
    "# put your code here\n",
    "print(np.isclose(m1, m2))\n",
    "print(np.allclose(m1, m2))\n",
    "print(np.isclose(v1, v2))\n",
    "print(np.allclose(v1, v2))"
   ],
   "metadata": {
    "collapsed": false,
    "pycharm": {
     "name": "#%%\n"
    }
   }
  },
  {
   "cell_type": "markdown",
   "source": [
    "## Exercise 9 (check that 2 arrays are almost equal)\n",
    "\n",
    "- Reshape `b` to the original shape `(5, 9)` and store the result in `A2`.\n",
    "\n",
    "- Use NumPy  [`isclose`](https://numpy.org/doc/stable/reference/generated/numpy.isclose.html) or [`allclose`](https://numpy.org/doc/stable/reference/generated/numpy.allclose.html) to check the arrays `A` and `A2` are indeed the same (or very close).\n",
    "\n",
    "- Is there any difference between `isclose` and `allclose` in this case?"
   ],
   "metadata": {
    "collapsed": false
   }
  },
  {
   "cell_type": "code",
   "execution_count": null,
   "outputs": [],
   "source": [
    "# put your code here\n",
    "A2 = b.reshape((5, 9))\n",
    "print(np.isclose(A, A2))\n",
    "print(np.allclose(A, A2))"
   ],
   "metadata": {
    "collapsed": false,
    "pycharm": {
     "name": "#%%\n"
    }
   }
  },
  {
   "cell_type": "markdown",
   "source": [
    "## Exercise 10 (indexing and slicing)\n",
    "\n",
    "- Select the first 9 elements of `b` and store them in `c`.\n",
    "    - _Hint: in this case, the syntax is equal to the syntax used to index Python lists_\n",
    "\n",
    "- Select the first row of `A` and store it in `d`.\n",
    "\n",
    "- Make sure that the shape of `c` and `d` is `(9,)`.\n",
    "\n",
    "- Make sure that `c` and `d` are almost equal."
   ],
   "metadata": {
    "collapsed": false
   }
  },
  {
   "cell_type": "code",
   "execution_count": null,
   "outputs": [],
   "source": [
    "# put your code here\n",
    "\n",
    "c = b[:9] # This syntax is exactly the same as indexing/slicing a list\n",
    "d = A[0, :] # This syntax is different than indexing a list of lists, which would be A[0][:]\n",
    "print(c.shape)\n",
    "print(d.shape)\n",
    "print(np.allclose(c, d))"
   ],
   "metadata": {
    "collapsed": false,
    "pycharm": {
     "name": "#%%\n"
    }
   }
  },
  {
   "cell_type": "markdown",
   "source": [
    "## Exercise 11 (Observe the side effects)\n",
    "\n",
    "- Set the first element of `c` to `7`, and observe the side effects in `A` by printing `A`."
   ],
   "metadata": {
    "collapsed": false
   }
  },
  {
   "cell_type": "code",
   "execution_count": null,
   "outputs": [],
   "source": [
    "# put your code here\n",
    "c[0] = 7\n",
    "print(c)\n",
    "print(A)"
   ],
   "metadata": {
    "collapsed": false,
    "pycharm": {
     "name": "#%%\n"
    }
   }
  },
  {
   "cell_type": "markdown",
   "source": [
    "## Exercise 12 (Avoid the side effects by making copies)\n",
    "\n",
    "- Make a copy of `c` and store it in `e`.\n",
    "\n",
    "- Set the first element of `e` to `10`.\n",
    "    - Are there any side effects in `c` and `A`?"
   ],
   "metadata": {
    "collapsed": false
   }
  },
  {
   "cell_type": "code",
   "execution_count": null,
   "outputs": [],
   "source": [
    "# put your code here\n",
    "e = c.copy()\n",
    "e[0] = 10\n",
    "print(e)\n",
    "print(c)\n",
    "print(A)"
   ],
   "metadata": {
    "collapsed": false,
    "pycharm": {
     "name": "#%%\n"
    }
   }
  },
  {
   "cell_type": "markdown",
   "source": [
    "## Exercise 13 (transpose of a matrix)\n",
    "\n",
    "- Compute the transpose of `A` and print the result"
   ],
   "metadata": {
    "collapsed": false
   }
  },
  {
   "cell_type": "code",
   "execution_count": null,
   "outputs": [],
   "source": [
    "# put your code here\n",
    "print(A.T)\n",
    "print(A.transpose())"
   ],
   "metadata": {
    "collapsed": false,
    "pycharm": {
     "name": "#%%\n"
    }
   }
  },
  {
   "cell_type": "markdown",
   "source": [
    "## Exercise 14 (matrix multiplication)\n",
    "\n",
    "- Multiply `A` and its transpose and save the result in `C`\n",
    "- What is the shape of `C`, and why?"
   ],
   "metadata": {
    "collapsed": false
   }
  },
  {
   "cell_type": "code",
   "execution_count": null,
   "outputs": [],
   "source": [
    "# put your code here\n",
    "C = np.dot(A, A.T)\n",
    "print(C.shape)"
   ],
   "metadata": {
    "collapsed": false,
    "pycharm": {
     "name": "#%%\n"
    }
   }
  },
  {
   "cell_type": "markdown",
   "source": [
    "## Exercise 15 (diagonal elements of a matrix)\n",
    "\n",
    "- Compute the diagonal elements of `C` and store there the result in `D`\n",
    "- What is the shape of the returned array, and why?"
   ],
   "metadata": {
    "collapsed": false
   }
  },
  {
   "cell_type": "code",
   "execution_count": null,
   "outputs": [],
   "source": [
    "# put your code here\n",
    "D = C.diagonal()\n",
    "D = np.diagonal(C)\n",
    "D = np.diag(C)\n",
    "print(np.allclose(np.diagonal(C), C.diagonal()))\n",
    "print(np.allclose(np.diagonal(C), np.diag(C)))\n",
    "print(D.shape)"
   ],
   "metadata": {
    "collapsed": false,
    "pycharm": {
     "name": "#%%\n"
    }
   }
  },
  {
   "cell_type": "markdown",
   "source": [
    "## Exercise 16 (broadcasting)\n",
    "\n",
    "- Multiply `2` by `C` and observe the results"
   ],
   "metadata": {
    "collapsed": false
   }
  },
  {
   "cell_type": "code",
   "execution_count": null,
   "outputs": [],
   "source": [
    "# put your code here\n",
    "print(C * 2)"
   ],
   "metadata": {
    "collapsed": false,
    "pycharm": {
     "name": "#%%\n"
    }
   }
  },
  {
   "cell_type": "markdown",
   "source": [
    "# References\n",
    "\n",
    "There many tutorials on the web on NumPy. Here are only a few of the references that I would suggest that you take a look at, if you have some time.\n",
    "\n",
    "- [What is NumPy?](https://numpy.org/doc/stable/user/whatisnumpy.html)\n",
    "- [NumPy quickstart](https://numpy.org/doc/stable/user/quickstart.html)\n",
    "- [NumPy: the absolute basics for beginners](https://numpy.org/doc/stable/user/absolute_beginners.html)\n",
    "- [NumPy Reference](https://numpy.org/doc/stable/reference/) (the documentation)\n",
    "\n",
    "Of course, you can also use\n",
    "\n",
    "- [Google](https://www.google.ch/)\n",
    "- [Stack Overflow](https://stackoverflow.com/questions/tagged/numpy)\n",
    "    - [Cross Validated Stack Exchange](https://stats.stackexchange.com/) \n",
    "    - [Artificial Intelligence Stack Exchange](https://ai.stackexchange.com/) (I am a [moderator](https://ai.stackexchange.com/users/2444/nbro) on this site, by the way :)   \n",
    "    - [Data Science Stack Exchange](https://datascience.stackexchange.com/)"
   ],
   "metadata": {
    "collapsed": false
   }
  },
  {
   "cell_type": "markdown",
   "source": [
    "# Related libraries\n",
    "\n",
    "There are other libraries (some of them use NumPy) that you will come across in the context of machine learning, such as\n",
    "\n",
    "- [TensorFlow](https://www.tensorflow.org/), [Keras](https://www.tensorflow.org/api_docs/python/tf/keras/layers) and [PyTorch](https://pytorch.org/) (for neural networks and other ML models)\n",
    "- [scikit-learn](https://scikit-learn.org/stable/) (aka, sklearn, which is a general ML library)\n",
    "- [Matplotlib](https://matplotlib.org/) (for plotting)\n",
    "- [Pandas](https://pandas.pydata.org/) (for data manipulation)\n",
    "- [Seaborn](https://seaborn.pydata.org/) (for plotting)\n",
    "- [OpenCV](https://opencv.org/) (for image processing and computer vision)"
   ],
   "metadata": {
    "collapsed": false
   }
  },
  {
   "cell_type": "markdown",
   "source": [
    "# [Google Colaboratory](https://research.google.com/colaboratory/faq.html) (aka colab)\n",
    "\n",
    "## Some tricks and tips\n",
    "\n",
    "- [2 types of cells](https://colab.research.google.com/notebooks/basic_features_overview.ipynb): \n",
    "    1. code\n",
    "    2. [text](https://colab.research.google.com/notebooks/markdown_guide.ipynb)\n",
    "\n",
    "- <kbd>Shift</kbd> + <kbd>Enter</kbd> [to execute the content of a cell](https://colab.research.google.com/notebooks/basic_features_overview.ipynb)\n",
    "\n",
    "- <kbd>CTRL</kbd> + hover the symbol: to see the documentation of a method, class, etc.\n",
    "- <kbd>CTRL</kbd> + click on the symbol, then click to to definition to see the definition/code\n",
    "\n",
    "- To train neural networks with GPU and TPUs (which can be a lot faster than training with CPUs), go to `Runtime` menu, then click on `Change runtime type`, then choose e.g. GPU/TPU\n",
    "    - This may be useful later, but not really now\n",
    "\n",
    "- [You have only a limited number of time in Colab, then the session may end (and unexpectedly!)](https://research.google.com/colaboratory/faq.html)  \n",
    "\n",
    "- [You can load data from your Google Drive or Github](https://colab.research.google.com/notebooks/io.ipynb)\n",
    "\n",
    "- [You can clone a Github repository into the file system of the VM used in Colab](https://stackoverflow.com/a/58395920/3924118), then you can execute code from that repo from within Colab\n",
    "\n",
    "- Google Colab typically already comes with many Python libraries installed, including NumPy, but sometimes you need to install your needed libraries\n",
    "\n",
    "- Python statements are treated differently than shell/terminal commands\n",
    "    - [What is the meaning of exclamation and question marks in Jupyter notebook?](https://stackoverflow.com/q/53498226/3924118)\n",
    "    - [What is the difference between ! and % in Jupyter notebooks?](https://stackoverflow.com/q/45784499/3924118)\n",
    "\n",
    "- See [this](https://colab.research.google.com/notebooks/) for more info"
   ],
   "metadata": {
    "collapsed": false
   }
  },
  {
   "cell_type": "markdown",
   "source": [
    "# Where to code?\n",
    "\n",
    "I recommend the [IDE](https://en.wikipedia.org/wiki/Integrated_development_environment) [PyCharm](https://www.jetbrains.com/pycharm/) (there's a community edition that is free, but, given that you're a student, you can get access to the full IDE by subscribing as a student). To quickly edit code, [Visual Studio Code](https://code.visualstudio.com/) is also quite neat. Of course, you can also use Google Colab or Jupyter notebooks, especially when a notebook is required, rather than a Python module (which ends with `.py` rather than `.ipynb`, like this notebook). "
   ],
   "metadata": {
    "collapsed": false
   }
  }
 ],
 "metadata": {
  "kernelspec": {
   "display_name": "Python 3",
   "language": "python",
   "name": "python3"
  },
  "language_info": {
   "codemirror_mode": {
    "name": "ipython",
    "version": 2
   },
   "file_extension": ".py",
   "mimetype": "text/x-python",
   "name": "python",
   "nbconvert_exporter": "python",
   "pygments_lexer": "ipython2",
   "version": "2.7.6"
  },
  "pycharm": {
   "stem_cell": {
    "cell_type": "raw",
    "source": [],
    "metadata": {
     "collapsed": false
    }
   }
  }
 },
 "nbformat": 4,
 "nbformat_minor": 0
}