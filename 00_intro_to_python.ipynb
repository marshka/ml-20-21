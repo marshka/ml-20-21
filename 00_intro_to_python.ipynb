{
  "nbformat": 4,
  "nbformat_minor": 0,
  "metadata": {
    "colab": {
      "name": "00_intro_to_python.ipynb",
      "provenance": [],
      "collapsed_sections": [
        "leVVvmzGKzns",
        "A7Tzcab-Llq0",
        "Mjku9FI9LxDn",
        "axKu1SmiMH_N",
        "UU9pJprHMM7W",
        "4Bwb_OORNJf1",
        "C80a9yVyPXOd",
        "rQjgtDHESVru",
        "5DWwQO0HRWb3",
        "bmlB1JnFa-H_"
      ],
      "include_colab_link": true
    },
    "kernelspec": {
      "display_name": "Python 3",
      "language": "python",
      "name": "python3"
    }
  },
  "cells": [
    {
      "cell_type": "markdown",
      "metadata": {
        "id": "view-in-github",
        "colab_type": "text"
      },
      "source": [
        "<a href=\"https://colab.research.google.com/github/marshka/ml-20-21/blob/main/00_intro_to_python.ipynb\" target=\"_parent\"><img src=\"https://colab.research.google.com/assets/colab-badge.svg\" alt=\"Open In Colab\"/></a>"
      ]
    },
    {
      "cell_type": "markdown",
      "metadata": {
        "id": "kUod4PhQEUz1"
      },
      "source": [
        "# Machine Learning SP 2020/2021\n",
        "\n",
        "Prof. Cesare Alippi   \n",
        "Andrea Cini ([`andrea.cini@usi.ch`](mailto:andrea.cini@usi.ch))   \n",
        "Ivan Marisca ([`ivan.marisca@usi.ch`](mailto:ivan.marisca@usi.ch))   \n",
        "Nelson Brochado ([`nelson.brochado@usi.ch`](mailto:nelson.brochado@usi.ch))\n",
        "\n",
        "---\n",
        "\n",
        "# Intro to Python\n",
        "\n",
        "![alt text](https://www.python.org/static/community_logos/python-logo-master-v3-TM.png)\n",
        "\n",
        "Among the most important things that you should learn from the beginning about Python language is that:\n",
        "\n",
        "- Python is interpreted,\n",
        "- Python is dynamically typed,\n",
        "- indentation matters.\n",
        "\n",
        "Python acts as a high-level interface to a low-level interpreter written in C, and is built for fast prototyping and readable code.\n",
        "The fact that the Python is interpreted, makes it less performant than compiled languages. However, programmers can build extensions in C and move high-load functions to external, compiled modules. \n",
        "\n",
        "In this course, we will use Python for all assignments, so make sure to familiarize with its syntax as soon as possible.\n",
        "Since Python is so simple and flexible, it shouldn't take you more than a week to get the basics down. \n",
        "\n",
        "Let's see some examples.\n"
      ]
    },
    {
      "cell_type": "code",
      "metadata": {
        "id": "nUqVTs3aJICO",
        "colab": {
          "base_uri": "https://localhost:8080/"
        },
        "outputId": "df6dee85-4c4c-43ec-f878-4320d17a6c1c"
      },
      "source": [
        "# This is an inline comment. Anything after # is ignored by the interpreter\n",
        "\n",
        "a = 1          # Variable assignment\n",
        "b = 'string'   # This is a string\n",
        "c = 3.2        # This is a float\n",
        "d = True       # This is a bool\n",
        "e = [1, 2, 3]  # This is a list of integers\n",
        "g = (1, 2, 3)  # Tuples are immutable lists (can't be modified)\n",
        "f = {'a': 1}   # Hashmaps in Python are called `dictionaries`\n",
        "h = None       # This is a special object, equivalent to null in Java\n",
        "\n",
        "print('This is how you can print a string to stdout')"
      ],
      "execution_count": null,
      "outputs": [
        {
          "output_type": "stream",
          "text": [
            "This is how you can print a string to stdout\n"
          ],
          "name": "stdout"
        }
      ]
    },
    {
      "cell_type": "markdown",
      "metadata": {
        "id": "leVVvmzGKzns"
      },
      "source": [
        "### More on data structures"
      ]
    },
    {
      "cell_type": "code",
      "metadata": {
        "id": "WouHzi0fKsDO",
        "colab": {
          "base_uri": "https://localhost:8080/"
        },
        "outputId": "ff252c16-1817-49da-ebdc-76b981c0721a"
      },
      "source": [
        "i = [1, 2.0, ['a', 'b', 5], 6]  # This list contains mixed-type elements\n",
        "print(i[2])                     # This is how you access a data struct\n",
        "print(i[2:4])                   # Lists and tuples support slicing (start inclusive, end exclusive)\n",
        "\n",
        "f[123] = 'onetwothree'          # Anything can be a dictionary key\n",
        "print(f)"
      ],
      "execution_count": 9,
      "outputs": [
        {
          "output_type": "stream",
          "text": [
            "['a', 'b', 5]\n",
            "[['a', 'b', 5], 6]\n",
            "{'a': 1, 123: 'onetwothree'}\n"
          ],
          "name": "stdout"
        }
      ]
    },
    {
      "cell_type": "markdown",
      "metadata": {
        "id": "A7Tzcab-Llq0"
      },
      "source": [
        "### Dynamic typing"
      ]
    },
    {
      "cell_type": "code",
      "metadata": {
        "id": "hjnJMyAuLidy",
        "colab": {
          "base_uri": "https://localhost:8080/"
        },
        "outputId": "1cbbf838-2587-4fc8-d5c7-e46dd5fd671b"
      },
      "source": [
        "a = 10.        # Now a contains a float...\n",
        "print(a, type(a))\n",
        "a = [1, 2, 3]  # ...and now a list of integers.\n",
        "print(a, type(a))\n",
        "a = (1, 2, 3)  # Variables are just pointers to objects in memory\n",
        "print(a, type(a))"
      ],
      "execution_count": null,
      "outputs": [
        {
          "output_type": "stream",
          "text": [
            "10.0 <class 'float'>\n",
            "[1, 2, 3] <class 'list'>\n",
            "(1, 2, 3) <class 'tuple'>\n"
          ],
          "name": "stdout"
        }
      ]
    },
    {
      "cell_type": "markdown",
      "metadata": {
        "id": "Mjku9FI9LxDn"
      },
      "source": [
        "### Control statements"
      ]
    },
    {
      "cell_type": "code",
      "metadata": {
        "id": "J6LKhjEJLwaR",
        "colab": {
          "base_uri": "https://localhost:8080/"
        },
        "outputId": "c1e8268f-6fcf-4a0e-8732-f8bdd435e25d"
      },
      "source": [
        "# For loop behaves as a foreach\n",
        "for i in [1, 4, 5]:\n",
        "    # After a ':', code must be indented\n",
        "    print(i)\n",
        "print(\"Out of the loop!\") # This statement is not indented as 'print(i)'\n",
        "\n",
        "# While loop\n",
        "a = 10\n",
        "while a > 0:  # Other operators: >=, <=, <, >, ==, !=\n",
        "    a = a - 1\n",
        "\n",
        "# If - else if - else\n",
        "if a == 0:\n",
        "    print('Zero')\n",
        "elif a < 0:\n",
        "    print('Negative')\n",
        "else:\n",
        "    print('Positive')\n",
        "    \n",
        "if not a == 0:  # 'not' is the keyword for negation\n",
        "    print('a is not 0')\n",
        "\n",
        "# Inline if - else\n",
        "a = 5\n",
        "print('spam' if a < 0 else 'ham')"
      ],
      "execution_count": 11,
      "outputs": [
        {
          "output_type": "stream",
          "text": [
            "1\n",
            "4\n",
            "5\n",
            "Out of the loop!\n",
            "Zero\n",
            "ham\n"
          ],
          "name": "stdout"
        }
      ]
    },
    {
      "cell_type": "markdown",
      "metadata": {
        "id": "axKu1SmiMH_N"
      },
      "source": [
        "### Functions"
      ]
    },
    {
      "cell_type": "code",
      "metadata": {
        "id": "UgZmX7KnMLNw",
        "colab": {
          "base_uri": "https://localhost:8080/"
        },
        "outputId": "32f1d1e3-0948-4e31-f7ff-1671a3ac0207"
      },
      "source": [
        "def foo(x):\n",
        "    print(x)\n",
        "    \n",
        "foo('foo')\n",
        "\n",
        "# This is a function with optional parameters\n",
        "def bar(x, optional=-1):\n",
        "    print( x, optional)\n",
        "\n",
        "bar(1)               # Prints 1 -1\n",
        "bar(1, optional=2)   # Prints 1 2\n",
        "bar(1, 3)            # Prints 1 3\n",
        "bar(optional=3, x=1) # Prints 1 3\n",
        "#bar(optional=3)     # Does not work!"
      ],
      "execution_count": 12,
      "outputs": [
        {
          "output_type": "stream",
          "text": [
            "foo\n",
            "1 -1\n",
            "1 2\n",
            "1 3\n",
            "1 3\n"
          ],
          "name": "stdout"
        }
      ]
    },
    {
      "cell_type": "markdown",
      "metadata": {
        "id": "zIUvKctS1p0r"
      },
      "source": [
        "__Remark__: In Python everything is an object and variables are references to objects."
      ]
    },
    {
      "cell_type": "code",
      "metadata": {
        "id": "pUvoMchM1oDW",
        "colab": {
          "base_uri": "https://localhost:8080/"
        },
        "outputId": "1973858b-24c4-4e11-bed0-6e73447eb122"
      },
      "source": [
        "def pippo(l):\n",
        "    l[1] = None \n",
        "\n",
        "s = [1, 2, 3]\n",
        "print(s)\n",
        "pippo(s)\n",
        "print(s)"
      ],
      "execution_count": null,
      "outputs": [
        {
          "output_type": "stream",
          "text": [
            "[1, 2, 3]\n",
            "[1, None, 3]\n"
          ],
          "name": "stdout"
        }
      ]
    },
    {
      "cell_type": "code",
      "metadata": {
        "id": "R6p-E8y95MDg",
        "colab": {
          "base_uri": "https://localhost:8080/"
        },
        "outputId": "74855013-b198-4ece-ec48-635b550baa87"
      },
      "source": [
        "def pluto(l):\n",
        "    l = [4, 5, 6]\n",
        "\n",
        "s = [1, 2, 3]\n",
        "print(s)\n",
        "pluto(s)\n",
        "print(s)"
      ],
      "execution_count": null,
      "outputs": [
        {
          "output_type": "stream",
          "text": [
            "[1, 2, 3]\n",
            "[1, 2, 3]\n"
          ],
          "name": "stdout"
        }
      ]
    },
    {
      "cell_type": "markdown",
      "metadata": {
        "id": "In_lZVkO5wT5"
      },
      "source": [
        "- `pippo` changes the object not the variable\n",
        "(side effect, out of the function control), \n",
        "- `pluto` make variable `l` point to a different object (but `l` is local).\n",
        "\n",
        "__Take-away__: be careful of side effects."
      ]
    },
    {
      "cell_type": "markdown",
      "metadata": {
        "id": "UU9pJprHMM7W"
      },
      "source": [
        "### Syntactic sugar"
      ]
    },
    {
      "cell_type": "code",
      "metadata": {
        "id": "NawnmBzbMJS1",
        "colab": {
          "base_uri": "https://localhost:8080/"
        },
        "outputId": "60b486ff-b8bc-450d-b5e6-8835a6d05b1f"
      },
      "source": [
        "h = None\n",
        "if h is None:  # Check equivalence with \"is\"\n",
        "    print('variable is None')\n",
        "    \n",
        "if 1 in [1, 2, 3]:  # Check membership with \"in\"\n",
        "    print('Element found')\n",
        "    \n",
        "if 1 not in [1, 2, 3]:\n",
        "    print('Element not found')\n",
        "\n",
        "e = [1, 2, 3]    \n",
        "e.append(4)  # Append to list\n",
        "print(e)\n",
        "e = [1, 2, 3] + [4, 5, 6]  # Concatenate two lists\n",
        "print(e)\n",
        "e = [1 for _ in range(1, 7)] # List comprehension\n",
        "print(e)"
      ],
      "execution_count": 25,
      "outputs": [
        {
          "output_type": "stream",
          "text": [
            "variable is None\n",
            "Element found\n",
            "[1, 2, 3, 4]\n",
            "[1, 2, 3, 4, 5, 6]\n",
            "[1, 1, 1, 1, 1, 1]\n"
          ],
          "name": "stdout"
        }
      ]
    },
    {
      "cell_type": "markdown",
      "metadata": {
        "id": "4Bwb_OORNJf1"
      },
      "source": [
        "### Built-in functions\n",
        "Python has a lot of native methods to do all sorts of stuff."
      ]
    },
    {
      "cell_type": "code",
      "metadata": {
        "id": "CC6Gqw_CNLzG"
      },
      "source": [
        "a = list()     # List constructor\n",
        "for i in range(10):  # Count from 0 to 10 \n",
        "    a.append(5-i)\n",
        "sorted(a)      # Return a sorted list\n",
        "max(a)         # Find the max\n",
        "min(a)         # Find the min\n",
        "f = open('test_file.txt', 'w')  # Open a file\n",
        "f.write(\"I don't know what to say...\")\n",
        "f.close()"
      ],
      "execution_count": null,
      "outputs": []
    },
    {
      "cell_type": "markdown",
      "metadata": {
        "id": "C80a9yVyPXOd"
      },
      "source": [
        "### Importing external libraries\n",
        "The true power of Python lies in the vast amount of libraries that are available to developers."
      ]
    },
    {
      "cell_type": "code",
      "metadata": {
        "id": "c15oCuXTPmkd",
        "colab": {
          "base_uri": "https://localhost:8080/"
        },
        "outputId": "9246893b-9cae-4f81-d05f-212cba107fa3"
      },
      "source": [
        "import math  # Import the library (or \"module\") called \"math\"\n",
        "print(math.cos(1))\n",
        "\n",
        "from math import cos  # Import a single function from a module\n",
        "print(cos(1))\n",
        "\n",
        "import math as m  # Import a module and rename it\n",
        "m.cos(1)"
      ],
      "execution_count": 26,
      "outputs": [
        {
          "output_type": "stream",
          "text": [
            "0.5403023058681398\n",
            "0.5403023058681398\n"
          ],
          "name": "stdout"
        },
        {
          "output_type": "execute_result",
          "data": {
            "text/plain": [
              "0.5403023058681398"
            ]
          },
          "metadata": {
            "tags": []
          },
          "execution_count": 26
        }
      ]
    },
    {
      "cell_type": "markdown",
      "metadata": {
        "id": "rQjgtDHESVru"
      },
      "source": [
        "## Intro to Numpy\n",
        "The main library that we are going to use in the course is called Numpy, which the most popular Python library for scientific computing and array manipulation.   \n",
        "This notebook contains a primer on how to use some basic functions of Numpy."
      ]
    },
    {
      "cell_type": "code",
      "metadata": {
        "id": "HMIpdm4kRWb0"
      },
      "source": [
        "import numpy as np"
      ],
      "execution_count": 4,
      "outputs": []
    },
    {
      "cell_type": "markdown",
      "metadata": {
        "id": "5DWwQO0HRWb3"
      },
      "source": [
        "## Numpy arrays\n",
        "\n",
        "The building block of numpy is the `ndarray`,  short for \"n-dimensional array\". Arrays in Numpy are objects with three main properties: \n",
        "1. the actual data\n",
        "2. shape (data dimensions) \n",
        "3. data type\n",
        "\n",
        "To create an array, we use the `np.array` constructor. "
      ]
    },
    {
      "cell_type": "code",
      "metadata": {
        "id": "ZJbIb7H6RWb4",
        "colab": {
          "base_uri": "https://localhost:8080/"
        },
        "outputId": "24799359-fe12-42fb-9696-6e09ffef20ee"
      },
      "source": [
        "a = np.array([1, 2, 3])\n",
        "\n",
        "print('Data:  ', a)\n",
        "print('Shape: ', a.shape)\n",
        "print('Data type:  ', a.dtype)\n",
        "print('Type of a:', type(a))"
      ],
      "execution_count": 28,
      "outputs": [
        {
          "output_type": "stream",
          "text": [
            "Data:   [1 2 3]\n",
            "Shape:  (3,)\n",
            "Data type:   int64\n",
            "Type of a: <class 'numpy.ndarray'>\n"
          ],
          "name": "stdout"
        }
      ]
    },
    {
      "cell_type": "markdown",
      "metadata": {
        "id": "k_44YZSGV_Tn"
      },
      "source": [
        "We can also create arrays with a higher number of dimensions. An array with shape `(n, m)` is represented in classical notation with $\\mathbb{R}^{n \\times m}$."
      ]
    },
    {
      "cell_type": "code",
      "metadata": {
        "id": "dt-5JWQmRWb8",
        "colab": {
          "base_uri": "https://localhost:8080/"
        },
        "outputId": "00c45939-0604-48a0-fd30-ba414b9cd987"
      },
      "source": [
        "b = np.array([[1., 2., 3.], \n",
        "              [4., 5., 6.]])  # a list of lists\n",
        "\n",
        "print('Data:  ')\n",
        "print(b)\n",
        "print('Shape: ', b.shape)\n",
        "print('Type:  ', b.dtype)"
      ],
      "execution_count": 29,
      "outputs": [
        {
          "output_type": "stream",
          "text": [
            "Data:  \n",
            "[[1. 2. 3.]\n",
            " [4. 5. 6.]]\n",
            "Shape:  (2, 3)\n",
            "Type:   float64\n"
          ],
          "name": "stdout"
        }
      ]
    },
    {
      "cell_type": "code",
      "metadata": {
        "id": "HBebfUWD15V_",
        "colab": {
          "base_uri": "https://localhost:8080/"
        },
        "outputId": "18242689-79c8-4cc9-aa92-1a98f4ad94b8"
      },
      "source": [
        "t = 2 * np.ones(shape=3)\n",
        "print('Shape: ', t.shape)\n",
        "print('Data:  ')\n",
        "print(t)\n",
        "\n",
        "print()\n",
        "\n",
        "z = np.zeros(shape=(3, 2, 5)) \n",
        "print('Shape: ', z.shape)\n",
        "print('Data:  ')\n",
        "print(z)"
      ],
      "execution_count": 30,
      "outputs": [
        {
          "output_type": "stream",
          "text": [
            "Shape:  (3,)\n",
            "Data:  \n",
            "[2. 2. 2.]\n",
            "\n",
            "Shape:  (3, 2, 5)\n",
            "Data:  \n",
            "[[[0. 0. 0. 0. 0.]\n",
            "  [0. 0. 0. 0. 0.]]\n",
            "\n",
            " [[0. 0. 0. 0. 0.]\n",
            "  [0. 0. 0. 0. 0.]]\n",
            "\n",
            " [[0. 0. 0. 0. 0.]\n",
            "  [0. 0. 0. 0. 0.]]]\n"
          ],
          "name": "stdout"
        }
      ]
    },
    {
      "cell_type": "markdown",
      "metadata": {
        "id": "QzIYlHMXYV2q"
      },
      "source": [
        "Data, shape, and type af an array can be manipulated (obviously, we are mostly interested in manipulating the data, but the other two can be very important)."
      ]
    },
    {
      "cell_type": "code",
      "metadata": {
        "id": "_mtr6vRsYxIj",
        "colab": {
          "base_uri": "https://localhost:8080/"
        },
        "outputId": "9be0e496-9a4b-4fe2-9c02-49a57162f8dd"
      },
      "source": [
        "a = np.array([0, 1, 2, 3, 4, 5, 6, 7, 8])\n",
        "print('Original:    ', a)\n",
        "\n",
        "# Edit data\n",
        "a[2] = 9\n",
        "print('Change data: ', a)\n",
        "\n",
        "# Edit shape\n",
        "print('Change shape to (3, 3):')\n",
        "print(a.reshape((3, 3)))\n",
        "print(a.reshape((3, -1)))\n",
        "\n",
        "# Change type\n",
        "print('Change type: ', a.astype(np.float))\n",
        "print(a.dtype)"
      ],
      "execution_count": 42,
      "outputs": [
        {
          "output_type": "stream",
          "text": [
            "Original:     [0 1 2 3 4 5 6 7 8]\n",
            "Change data:  [0 1 9 3 4 5 6 7 8]\n",
            "Change shape to (3, 3):\n",
            "[[0 1 9]\n",
            " [3 4 5]\n",
            " [6 7 8]]\n",
            "[[0 1 9]\n",
            " [3 4 5]\n",
            " [6 7 8]]\n",
            "Change type:  [0. 1. 9. 3. 4. 5. 6. 7. 8.]\n",
            "int64\n"
          ],
          "name": "stdout"
        }
      ]
    },
    {
      "cell_type": "markdown",
      "metadata": {
        "id": "WS6ujOsiuJ2m"
      },
      "source": [
        "Arrays can be accessed like lists, but support an advanced slicing operator that allows for complex behaviours."
      ]
    },
    {
      "cell_type": "code",
      "metadata": {
        "id": "Jl9qoDXZuWGR",
        "colab": {
          "base_uri": "https://localhost:8080/"
        },
        "outputId": "f4468879-417e-4eef-b6b9-f9b641c7b126"
      },
      "source": [
        "a = np.arange(9).reshape((3, 3))\n",
        "print(a)\n",
        "\n",
        "# Access element 0, 0\n",
        "print(\"a[0, 0]:\", a[0, 0])"
      ],
      "execution_count": 43,
      "outputs": [
        {
          "output_type": "stream",
          "text": [
            "[[0 1 2]\n",
            " [3 4 5]\n",
            " [6 7 8]]\n",
            "a[0, 0]: [0 1 2]\n"
          ],
          "name": "stdout"
        }
      ]
    },
    {
      "cell_type": "code",
      "metadata": {
        "id": "J-qQCxBju5YX",
        "colab": {
          "base_uri": "https://localhost:8080/"
        },
        "outputId": "de5df90f-f334-4ffc-ee5c-c005bb9fbc36"
      },
      "source": [
        "# Access first row\n",
        "print(a[0])"
      ],
      "execution_count": 33,
      "outputs": [
        {
          "output_type": "stream",
          "text": [
            "[0 1 2]\n"
          ],
          "name": "stdout"
        }
      ]
    },
    {
      "cell_type": "code",
      "metadata": {
        "id": "XdDzjeoX3VhD",
        "colab": {
          "base_uri": "https://localhost:8080/"
        },
        "outputId": "3f9dcfe8-af7c-483f-f61e-e9958909c974"
      },
      "source": [
        "print(a[0, :])"
      ],
      "execution_count": 34,
      "outputs": [
        {
          "output_type": "stream",
          "text": [
            "[0 1 2]\n"
          ],
          "name": "stdout"
        }
      ]
    },
    {
      "cell_type": "code",
      "metadata": {
        "id": "KYA5izk-u6oK",
        "colab": {
          "base_uri": "https://localhost:8080/"
        },
        "outputId": "550ecb6e-6585-473d-88ac-f95b4f9bd76c"
      },
      "source": [
        "# Access first column\n",
        "print(a[:, 0])"
      ],
      "execution_count": 35,
      "outputs": [
        {
          "output_type": "stream",
          "text": [
            "[0 3 6]\n"
          ],
          "name": "stdout"
        }
      ]
    },
    {
      "cell_type": "code",
      "metadata": {
        "id": "2nD5knaz3XKQ",
        "colab": {
          "base_uri": "https://localhost:8080/"
        },
        "outputId": "10949dc8-a47b-4e43-9143-ab9e62c6730e"
      },
      "source": [
        "print(a[:, 0:1])\n",
        "print(\"shape:\", a[:, 0:1].shape)"
      ],
      "execution_count": 36,
      "outputs": [
        {
          "output_type": "stream",
          "text": [
            "[[0]\n",
            " [3]\n",
            " [6]]\n",
            "shape: (3, 1)\n"
          ],
          "name": "stdout"
        }
      ]
    },
    {
      "cell_type": "code",
      "metadata": {
        "id": "zTUcsC-Mu7tD",
        "colab": {
          "base_uri": "https://localhost:8080/"
        },
        "outputId": "d81308b4-f8ba-42a1-9d2b-deb748b9900b"
      },
      "source": [
        "# Access 2 x 2 submatrix\n",
        "print(a[0:2, 0:2])"
      ],
      "execution_count": 37,
      "outputs": [
        {
          "output_type": "stream",
          "text": [
            "[[0 1]\n",
            " [3 4]]\n"
          ],
          "name": "stdout"
        }
      ]
    },
    {
      "cell_type": "code",
      "metadata": {
        "id": "zkiptDTb3j55",
        "colab": {
          "base_uri": "https://localhost:8080/"
        },
        "outputId": "0865a013-07b7-4168-8ed1-9500ab899bce"
      },
      "source": [
        "print(a[:2, :2])"
      ],
      "execution_count": 38,
      "outputs": [
        {
          "output_type": "stream",
          "text": [
            "[[0 1]\n",
            " [3 4]]\n"
          ],
          "name": "stdout"
        }
      ]
    },
    {
      "cell_type": "markdown",
      "metadata": {
        "id": "bmlB1JnFa-H_"
      },
      "source": [
        "## Numpy operations\n",
        "Numpy implements hundreds of useful mathematical operations on and between arrays. \n",
        "\n",
        "### Operations on arrays\n",
        "\n",
        "Unary operations on arrays are applied element-wise, i.e., evaluated for each number saved in the array. Shape is usually not affected by unary operations, but type might. "
      ]
    },
    {
      "cell_type": "code",
      "metadata": {
        "id": "T6zhXrkecCYj"
      },
      "source": [
        "import matplotlib.pyplot as plt\n",
        "\n",
        "# Create a sequence of 1000 floats equally spaced between 0 and 2pi\n",
        "x = np.linspace(0, 2 * np.pi, 1000)"
      ],
      "execution_count": 45,
      "outputs": []
    },
    {
      "cell_type": "markdown",
      "metadata": {
        "id": "dBDI8XKC3smv"
      },
      "source": [
        "__Trick__: in a code cell hold \"ctrl\" and point to a function"
      ]
    },
    {
      "cell_type": "markdown",
      "metadata": {
        "id": "m8YXAWdk0Yu7"
      },
      "source": [
        "This how we compute the sine function at all points defined in `x`."
      ]
    },
    {
      "cell_type": "code",
      "metadata": {
        "id": "F-D9ZK6p0X7t",
        "colab": {
          "base_uri": "https://localhost:8080/",
          "height": 265
        },
        "outputId": "06bf9457-d59b-46a5-a1aa-eeaf53075cf4"
      },
      "source": [
        "y = np.sin(x)\n",
        "plt.plot(x, y);  # Plot a line graph built using (x[i], y[i]) pairs"
      ],
      "execution_count": 46,
      "outputs": [
        {
          "output_type": "display_data",
          "data": {
            "image/png": "[encoded data removed]",
            "text/plain": [
              "<Figure size 432x288 with 1 Axes>"
            ]
          },
          "metadata": {
            "tags": [],
            "needs_background": "light"
          }
        }
      ]
    },
    {
      "cell_type": "markdown",
      "metadata": {
        "id": "IStSMhG70eR8"
      },
      "source": [
        "And similarly, $e^x$."
      ]
    },
    {
      "cell_type": "code",
      "metadata": {
        "id": "eleIv243c4Ja",
        "colab": {
          "base_uri": "https://localhost:8080/",
          "height": 265
        },
        "outputId": "c659bf78-cd19-4c75-8eda-ef906f242bae"
      },
      "source": [
        "plt.plot(x, np.exp(x));"
      ],
      "execution_count": 47,
      "outputs": [
        {
          "output_type": "display_data",
          "data": {
            "image/png": "[encoded data removed]",
            "text/plain": [
              "<Figure size 432x288 with 1 Axes>"
            ]
          },
          "metadata": {
            "tags": [],
            "needs_background": "light"
          }
        }
      ]
    },
    {
      "cell_type": "markdown",
      "metadata": {
        "id": "ymf97J5h0kui"
      },
      "source": [
        "Numpy offers a very large collection of functions."
      ]
    },
    {
      "cell_type": "code",
      "metadata": {
        "id": "CmJlDJ25dGW6"
      },
      "source": [
        "y = np.square(x)   # Square\n",
        "y = np.sqrt(x)     # Square root\n",
        "y = np.floor(x)    # Flooring\n",
        "y = np.power(x, 3) # Exponentiation\n",
        "y = np.tan(x)      # Tangent\n",
        "y = np.arctan(x)   # Arctangent\n",
        "y = np.tanh(x)     # Hyperbolic tangent"
      ],
      "execution_count": 48,
      "outputs": []
    },
    {
      "cell_type": "markdown",
      "metadata": {
        "id": "Tta226gOhSrd"
      },
      "source": [
        "Arrays also support advanced manipulation via a process called **broadcasting**.  \n",
        "The following is a valid expression in Numpy, and gets evaluated at every point in the array x. This concept can also be applied to higher-rank arrays."
      ]
    },
    {
      "cell_type": "code",
      "metadata": {
        "id": "NQ7zO2D1ik-o",
        "colab": {
          "base_uri": "https://localhost:8080/",
          "height": 265
        },
        "outputId": "97874388-a09f-4393-9ca3-a46fa1b3b16c"
      },
      "source": [
        "y = x + 2  # 2 gets summed to every point in x\n",
        "plt.plot(x, y);"
      ],
      "execution_count": 49,
      "outputs": [
        {
          "output_type": "display_data",
          "data": {
            "image/png": "[encoded data removed]",
            "text/plain": [
              "<Figure size 432x288 with 1 Axes>"
            ]
          },
          "metadata": {
            "tags": [],
            "needs_background": "light"
          }
        }
      ]
    },
    {
      "cell_type": "markdown",
      "metadata": {
        "id": "bjd4n5lniz29"
      },
      "source": [
        "This can be extended to arbitrarily complex functions!"
      ]
    },
    {
      "cell_type": "code",
      "metadata": {
        "id": "Ei-j36uNhgSu",
        "colab": {
          "base_uri": "https://localhost:8080/",
          "height": 265
        },
        "outputId": "1e72d78b-abc7-4ed9-d0db-f7d3ce32ac1f"
      },
      "source": [
        "y1 = np.sin(x ** 2 + 3) + 3 * np.cos(x)\n",
        "plt.plot(x, y1);"
      ],
      "execution_count": 50,
      "outputs": [
        {
          "output_type": "display_data",
          "data": {
            "image/png": "[encoded data removed]",
            "text/plain": [
              "<Figure size 432x288 with 1 Axes>"
            ]
          },
          "metadata": {
            "tags": [],
            "needs_background": "light"
          }
        }
      ]
    },
    {
      "cell_type": "code",
      "metadata": {
        "id": "PlFw56uh6b_5",
        "colab": {
          "base_uri": "https://localhost:8080/",
          "height": 295
        },
        "outputId": "76385a11-48db-4a7a-cec4-cdfc060dd7d2"
      },
      "source": [
        "# we can also draw multiple plots\n",
        "y2 = np.sin(x) * np.cos(10*x)\n",
        "\n",
        "plt.plot(x, y1, label=\"fun_2\");\n",
        "plt.plot(x, y2, label=\"fun_2\");\n",
        "plt.legend()\n",
        "\n",
        "plt.title(\"nothing to declare\")\n",
        "plt.xlabel(\"my x\")\n",
        "plt.ylabel(\"my y\")\n",
        "plt.grid()"
      ],
      "execution_count": 51,
      "outputs": [
        {
          "output_type": "display_data",
          "data": {
            "image/png": "[encoded data removed]",
            "text/plain": [
              "<Figure size 432x288 with 1 Axes>"
            ]
          },
          "metadata": {
            "tags": [],
            "needs_background": "light"
          }
        }
      ]
    },
    {
      "cell_type": "markdown",
      "metadata": {
        "id": "-mpyU8xgvX3J"
      },
      "source": [
        "### Operations between arrays\n",
        "Operations can also be computed between two or more arrays.  \n",
        "There are two equivalent notations to compute the dot product between arrays in Numpy."
      ]
    },
    {
      "cell_type": "code",
      "metadata": {
        "id": "pplAIsswvilH",
        "colab": {
          "base_uri": "https://localhost:8080/"
        },
        "outputId": "b5a2bba1-cb5b-4ede-8caf-22c6e153174f"
      },
      "source": [
        "# 1D arrays\n",
        "x = np.arange(9)\n",
        "y = np.arange(9)\n",
        "\n",
        "# Dot product\n",
        "xy = np.dot(x, y)\n",
        "print(xy)\n",
        "xy = x.dot(y)\n",
        "print(xy)\n",
        "xy = 0\n",
        "for i in range(9):\n",
        "    xy += x[i] * y[i]\n",
        "print(xy)"
      ],
      "execution_count": 56,
      "outputs": [
        {
          "output_type": "stream",
          "text": [
            "204\n",
            "204\n",
            "204\n"
          ],
          "name": "stdout"
        }
      ]
    },
    {
      "cell_type": "code",
      "metadata": {
        "colab": {
          "base_uri": "https://localhost:8080/"
        },
        "id": "JjZXZZUb11vb",
        "outputId": "4a8a5abb-cef2-41bf-be18-052d69e65b23"
      },
      "source": [
        "from time import time\n",
        "\n",
        "# 1D arrays\n",
        "x = np.arange(9999)\n",
        "y = np.arange(9999)\n",
        "\n",
        "start = time()\n",
        "xy = np.dot(x, y)\n",
        "np_time = time() - start\n",
        "print(\"xy = {} - numpy dot time: {:6.3f} ms\".format(xy, np_time * 1000))\n",
        "\n",
        "start = time()\n",
        "xy = 0\n",
        "for i in range(9999):\n",
        "    xy += x[i] * y[i]\n",
        "for_time = time() - start\n",
        "print(\"xy = {} - for cycle time: {:6.3f} ms\".format(xy, for_time * 1000))\n"
      ],
      "execution_count": 26,
      "outputs": [
        {
          "output_type": "stream",
          "text": [
            "xy = 333183354999 - numpy dot time:  0.187 ms\n",
            "xy = 333183354999 - for cycle time: 15.849 ms\n"
          ],
          "name": "stdout"
        }
      ]
    },
    {
      "cell_type": "markdown",
      "metadata": {
        "id": "-N8dV8MdwmTe"
      },
      "source": [
        "The same can be done for matrices."
      ]
    },
    {
      "cell_type": "code",
      "metadata": {
        "id": "xIprDvRSv9_F",
        "colab": {
          "base_uri": "https://localhost:8080/"
        },
        "outputId": "57e21422-a27e-49b1-aa6c-f803f21bb277"
      },
      "source": [
        "# 2D arrays\n",
        "v = np.arange(9).reshape((3, 3))\n",
        "w = np.arange(9).reshape((3, 3))\n",
        "\n",
        "# Matrix multiplication between square matrices (row-column multiplication)\n",
        "vw = v.dot(w)\n",
        "print(vw)\n",
        "# The @ operator can be used as well\n",
        "print(v @ w)"
      ],
      "execution_count": 57,
      "outputs": [
        {
          "output_type": "stream",
          "text": [
            "[[ 15  18  21]\n",
            " [ 42  54  66]\n",
            " [ 69  90 111]]\n",
            "[[ 15  18  21]\n",
            " [ 42  54  66]\n",
            " [ 69  90 111]]\n"
          ],
          "name": "stdout"
        }
      ]
    },
    {
      "cell_type": "markdown",
      "metadata": {
        "id": "ACTpSvppxBNK"
      },
      "source": [
        "When multiplying non-square matrices, we have to be sure that their dimensions are aligned properly."
      ]
    },
    {
      "cell_type": "code",
      "metadata": {
        "id": "uEMGozwMw2I4"
      },
      "source": [
        "# Define two non-square matrices\n",
        "v = np.arange(6).reshape((3, 2))\n",
        "w = np.arange(6).reshape((3, 2))"
      ],
      "execution_count": 58,
      "outputs": []
    },
    {
      "cell_type": "code",
      "metadata": {
        "id": "L0fM3hA0xSJq",
        "colab": {
          "base_uri": "https://localhost:8080/"
        },
        "outputId": "64194b09-ad14-41ce-b78c-0192be5c207a"
      },
      "source": [
        "# This will crash\n",
        "try:\n",
        "    vw = v.dot(w)\n",
        "except ValueError as e:\n",
        "    print('ValueError:', e)"
      ],
      "execution_count": 59,
      "outputs": [
        {
          "output_type": "stream",
          "text": [
            "ValueError: shapes (3,2) and (3,2) not aligned: 2 (dim 1) != 3 (dim 0)\n"
          ],
          "name": "stdout"
        }
      ]
    },
    {
      "cell_type": "code",
      "metadata": {
        "id": "GB4mCXkyxTtq",
        "colab": {
          "base_uri": "https://localhost:8080/"
        },
        "outputId": "84b88276-9689-49dd-b13f-de68bf9a0817"
      },
      "source": [
        "# Transpose the second matrix with w.T to compute the correct product\n",
        "vw = v.dot(w.T)\n",
        "print(vw)"
      ],
      "execution_count": 60,
      "outputs": [
        {
          "output_type": "stream",
          "text": [
            "[[ 1  3  5]\n",
            " [ 3 13 23]\n",
            " [ 5 23 41]]\n"
          ],
          "name": "stdout"
        }
      ]
    },
    {
      "cell_type": "code",
      "metadata": {
        "id": "xAvvGF9S8AeH",
        "colab": {
          "base_uri": "https://localhost:8080/"
        },
        "outputId": "431115c0-6211-41a8-dec1-11339ccba249"
      },
      "source": [
        "# which is very different from\n",
        "vw = v.T.dot(w)\n",
        "print(vw)"
      ],
      "execution_count": 61,
      "outputs": [
        {
          "output_type": "stream",
          "text": [
            "[[20 26]\n",
            " [26 35]]\n"
          ],
          "name": "stdout"
        }
      ]
    },
    {
      "cell_type": "markdown",
      "metadata": {
        "id": "5aP0ls_3_iz_"
      },
      "source": [
        "Note that the usual multiplication opertaror does not work as a dot product, but as an element-wise operator. The same holds for `+`, `-`, and `/`."
      ]
    },
    {
      "cell_type": "code",
      "metadata": {
        "id": "hc2Nlly0_tNF",
        "colab": {
          "base_uri": "https://localhost:8080/"
        },
        "outputId": "257c325c-3a8c-4b10-c7a3-4b1cb4075e6d"
      },
      "source": [
        "# Element-wise multiplication\n",
        "v = np.arange(9)\n",
        "w = np.arange(9)\n",
        "print(v + w)\n",
        "print(v * w)"
      ],
      "execution_count": 62,
      "outputs": [
        {
          "output_type": "stream",
          "text": [
            "[ 0  2  4  6  8 10 12 14 16]\n",
            "[ 0  1  4  9 16 25 36 49 64]\n"
          ],
          "name": "stdout"
        }
      ]
    },
    {
      "cell_type": "markdown",
      "metadata": {
        "id": "k-NBLf0G1-po"
      },
      "source": [
        "Arrays can be stacked or concatenated together in several ways, along different **axes**."
      ]
    },
    {
      "cell_type": "code",
      "metadata": {
        "id": "UUPx7kx_2KMf",
        "colab": {
          "base_uri": "https://localhost:8080/"
        },
        "outputId": "6b1e37f0-1307-48a6-cf95-594eda379c2c"
      },
      "source": [
        "import numpy as np\n",
        "\n",
        "a = np.arange(9)\n",
        "b = np.arange(9)\n",
        "\n",
        "# Concatenate together\n",
        "print('Concatenated')\n",
        "ab = np.concatenate((a, b))\n",
        "print(ab)\n",
        "\n",
        "# Stack as a matrix\n",
        "print('Stacked rows')\n",
        "ab = np.vstack((a, b))  # Short for \"vertical stack\"\n",
        "print(ab)\n",
        "\n",
        "# Stack two column vectors\n",
        "print('Stacked columns')\n",
        "a = a.reshape((9, 1))   # Column vector\n",
        "b = b.reshape((9, 1))   # Column vector\n",
        "ab = np.hstack((a, b))  # Short for \"horizontal stack\"\n",
        "print(ab)"
      ],
      "execution_count": 5,
      "outputs": [
        {
          "output_type": "stream",
          "text": [
            "Concatenated\n",
            "[0 1 2 3 4 5 6 7 8 0 1 2 3 4 5 6 7 8]\n",
            "Stacked rows\n",
            "[[0 1 2 3 4 5 6 7 8]\n",
            " [0 1 2 3 4 5 6 7 8]]\n",
            "Stacked columns\n",
            "[[0 0]\n",
            " [1 1]\n",
            " [2 2]\n",
            " [3 3]\n",
            " [4 4]\n",
            " [5 5]\n",
            " [6 6]\n",
            " [7 7]\n",
            " [8 8]]\n"
          ],
          "name": "stdout"
        }
      ]
    },
    {
      "cell_type": "markdown",
      "metadata": {
        "id": "_UlI7Mz43UEM"
      },
      "source": [
        "## Resources\n",
        "\n",
        "- Python docs: [https://docs.python.org/](https://docs.python.org/)\n",
        "- [Python cheat sheet](https://perso.limsi.fr/pointal/_media/python:cours:mementopython3-english.pdf)\n",
        "- Numpy docs: [https://docs.scipy.org/doc/numpy/](https://docs.scipy.org/doc/numpy/)\n",
        "- [Cheat sheet for several scientific libraries](https://github.com/kailashahirwar/cheatsheets-ai/) (AI-oriented)\n"
      ]
    }
  ]
}